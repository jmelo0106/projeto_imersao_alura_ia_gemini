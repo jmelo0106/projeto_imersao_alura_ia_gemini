{
  "nbformat": 4,
  "nbformat_minor": 0,
  "metadata": {
    "colab": {
      "provenance": []
    },
    "kernelspec": {
      "name": "python3",
      "display_name": "Python 3"
    },
    "language_info": {
      "name": "python"
    }
  },
  "cells": [
    {
      "cell_type": "code",
      "source": [
        "%pip -q install google-genai"
      ],
      "metadata": {
        "id": "UCCbECexLk_h"
      },
      "execution_count": null,
      "outputs": []
    },
    {
      "cell_type": "code",
      "source": [
        "# Configura a API Key do Google Gemini\n",
        "\n",
        "import os\n",
        "from google.colab import userdata\n",
        "\n",
        "os.environ[\"GOOGLE_API_KEY\"] = userdata.get('GOOGLE_API_KEY')"
      ],
      "metadata": {
        "id": "NfCqHo1tLk8P"
      },
      "execution_count": null,
      "outputs": []
    },
    {
      "cell_type": "code",
      "source": [
        "# Configura o cliente da SDK do Gemini\n",
        "\n",
        "from google import genai\n",
        "\n",
        "client = genai.Client()\n",
        "\n",
        "MODEL_ID = \"gemini-2.0-flash\""
      ],
      "metadata": {
        "id": "bV4w0H5TLk5g"
      },
      "execution_count": null,
      "outputs": []
    },
    {
      "cell_type": "code",
      "source": [
        "# Pergunta ao Gemini uma informação mais recente que seu conhecimento\n",
        "\n",
        "from IPython.display import HTML, Markdown\n",
        "\n",
        "# Perguntar pro modelo quando é a próxima imersão de IA ###############################################\n",
        "resposta = client.models.generate_content(\n",
        "    model=MODEL_ID,\n",
        "    contents='Quando é a próxima Imersão IA com Google Gemini da Alura?',\n",
        ")\n",
        "\n",
        "# Exibe a resposta na tela\n",
        "display(Markdown(f\"Resposta:\\n {resposta.text}\"))"
      ],
      "metadata": {
        "id": "HwVP7Xi34Zuw",
        "colab": {
          "base_uri": "https://localhost:8080/",
          "height": 151
        },
        "outputId": "1f78e536-143e-433b-d50b-aef996b06dda"
      },
      "execution_count": null,
      "outputs": [
        {
          "output_type": "display_data",
          "data": {
            "text/plain": [
              "<IPython.core.display.Markdown object>"
            ],
            "text/markdown": "Resposta:\n A Alura ainda não divulgou uma nova edição da Imersão IA com Google Gemini. A última edição ocorreu em fevereiro de 2024.\n\nPara ficar por dentro de futuras edições, recomendo:\n\n*   **Acompanhar as redes sociais da Alura:** Eles costumam anunciar novos eventos e cursos por lá.\n*   **Verificar a página de eventos da Alura:** Procure na página oficial da Alura por uma seção de eventos ou imersões.\n*   **Assinar a newsletter da Alura:** Assim você recebe as novidades diretamente no seu e-mail.\n\nAssim que tiverem uma data confirmada, certamente divulgarão por esses canais."
          },
          "metadata": {}
        }
      ]
    },
    {
      "cell_type": "code",
      "source": [
        "# Pergunta ao Gemini uma informação utilizando a busca do Google como contexto\n",
        "\n",
        "response = client.models.generate_content(\n",
        "    model=MODEL_ID,\n",
        "    contents='Existe alguma Imersão IA com Google Gemini da Alura acontecendo no momento?',\n",
        "    config = {\"tools\": [{\"google_search\":{}}]}\n",
        "    # Inserir a tool de busca do Google ###############################################\n",
        ")\n",
        "\n",
        "# Exibe a resposta na tela\n",
        "display(Markdown(f\"Resposta:\\n {response.text}\"))"
      ],
      "metadata": {
        "id": "yXaZd7iZ4ftw",
        "colab": {
          "base_uri": "https://localhost:8080/",
          "height": 104
        },
        "outputId": "140687c1-fd31-4da0-b266-c44f5b660db3"
      },
      "execution_count": null,
      "outputs": [
        {
          "output_type": "display_data",
          "data": {
            "text/plain": [
              "<IPython.core.display.Markdown object>"
            ],
            "text/markdown": "Resposta:\n Sim, de acordo com os resultados da pesquisa, a Alura e o Google se uniram para oferecer uma Imersão IA com o Google Gemini. A Imersão IA é um curso online e gratuito, sem pré-requisitos, que visa ensinar como usar a IA do Google Gemini para criar projetos práticos e automatizar tarefas.\n\nCom base nas informações mais recentes, a Imersão IA mais recente ocorreu entre os dias 12 e 16 de maio de 2025. Além disso, em 13 de maio de 2025, houve uma Masterclass sobre os primeiros passos com Python para usar IA no dia a dia, como parte da Imersão IA da Alura e Google.\n"
          },
          "metadata": {}
        }
      ]
    },
    {
      "cell_type": "code",
      "source": [
        "# Exibe a busca\n",
        "print(f\"Busca realizada: {response.candidates[0].grounding_metadata.web_search_queries}\")\n",
        "# Exibe as URLs nas quais ele se baseou\n",
        "print(f\"Páginas utilizadas na resposta: {', '.join([site.web.title for site in response.candidates[0].grounding_metadata.grounding_chunks])}\")\n",
        "print()\n",
        "display(HTML(response.candidates[0].grounding_metadata.search_entry_point.rendered_content))"
      ],
      "metadata": {
        "id": "xHSNlTd84heJ",
        "colab": {
          "base_uri": "https://localhost:8080/",
          "height": 117
        },
        "outputId": "464bbd4a-5895-4187-abe3-85590e7918f3"
      },
      "execution_count": null,
      "outputs": [
        {
          "output_type": "stream",
          "name": "stdout",
          "text": [
            "Busca realizada: ['Alura Imersão IA Google Gemini']\n",
            "Páginas utilizadas na resposta: alura.com.br, tecmundo.com.br, youtube.com\n",
            "\n"
          ]
        },
        {
          "output_type": "display_data",
          "data": {
            "text/plain": [
              "<IPython.core.display.HTML object>"
            ],
            "text/html": [
              "<style>\n",
              ".container {\n",
              "  align-items: center;\n",
              "  border-radius: 8px;\n",
              "  display: flex;\n",
              "  font-family: Google Sans, Roboto, sans-serif;\n",
              "  font-size: 14px;\n",
              "  line-height: 20px;\n",
              "  padding: 8px 12px;\n",
              "}\n",
              ".chip {\n",
              "  display: inline-block;\n",
              "  border: solid 1px;\n",
              "  border-radius: 16px;\n",
              "  min-width: 14px;\n",
              "  padding: 5px 16px;\n",
              "  text-align: center;\n",
              "  user-select: none;\n",
              "  margin: 0 8px;\n",
              "  -webkit-tap-highlight-color: transparent;\n",
              "}\n",
              ".carousel {\n",
              "  overflow: auto;\n",
              "  scrollbar-width: none;\n",
              "  white-space: nowrap;\n",
              "  margin-right: -12px;\n",
              "}\n",
              ".headline {\n",
              "  display: flex;\n",
              "  margin-right: 4px;\n",
              "}\n",
              ".gradient-container {\n",
              "  position: relative;\n",
              "}\n",
              ".gradient {\n",
              "  position: absolute;\n",
              "  transform: translate(3px, -9px);\n",
              "  height: 36px;\n",
              "  width: 9px;\n",
              "}\n",
              "@media (prefers-color-scheme: light) {\n",
              "  .container {\n",
              "    background-color: #fafafa;\n",
              "    box-shadow: 0 0 0 1px #0000000f;\n",
              "  }\n",
              "  .headline-label {\n",
              "    color: #1f1f1f;\n",
              "  }\n",
              "  .chip {\n",
              "    background-color: #ffffff;\n",
              "    border-color: #d2d2d2;\n",
              "    color: #5e5e5e;\n",
              "    text-decoration: none;\n",
              "  }\n",
              "  .chip:hover {\n",
              "    background-color: #f2f2f2;\n",
              "  }\n",
              "  .chip:focus {\n",
              "    background-color: #f2f2f2;\n",
              "  }\n",
              "  .chip:active {\n",
              "    background-color: #d8d8d8;\n",
              "    border-color: #b6b6b6;\n",
              "  }\n",
              "  .logo-dark {\n",
              "    display: none;\n",
              "  }\n",
              "  .gradient {\n",
              "    background: linear-gradient(90deg, #fafafa 15%, #fafafa00 100%);\n",
              "  }\n",
              "}\n",
              "@media (prefers-color-scheme: dark) {\n",
              "  .container {\n",
              "    background-color: #1f1f1f;\n",
              "    box-shadow: 0 0 0 1px #ffffff26;\n",
              "  }\n",
              "  .headline-label {\n",
              "    color: #fff;\n",
              "  }\n",
              "  .chip {\n",
              "    background-color: #2c2c2c;\n",
              "    border-color: #3c4043;\n",
              "    color: #fff;\n",
              "    text-decoration: none;\n",
              "  }\n",
              "  .chip:hover {\n",
              "    background-color: #353536;\n",
              "  }\n",
              "  .chip:focus {\n",
              "    background-color: #353536;\n",
              "  }\n",
              "  .chip:active {\n",
              "    background-color: #464849;\n",
              "    border-color: #53575b;\n",
              "  }\n",
              "  .logo-light {\n",
              "    display: none;\n",
              "  }\n",
              "  .gradient {\n",
              "    background: linear-gradient(90deg, #1f1f1f 15%, #1f1f1f00 100%);\n",
              "  }\n",
              "}\n",
              "</style>\n",
              "<div class=\"container\">\n",
              "  <div class=\"headline\">\n",
              "    <svg class=\"logo-light\" width=\"18\" height=\"18\" viewBox=\"9 9 35 35\" fill=\"none\" xmlns=\"http://www.w3.org/2000/svg\">\n",
              "      <path fill-rule=\"evenodd\" clip-rule=\"evenodd\" d=\"M42.8622 27.0064C42.8622 25.7839 42.7525 24.6084 42.5487 23.4799H26.3109V30.1568H35.5897C35.1821 32.3041 33.9596 34.1222 32.1258 35.3448V39.6864H37.7213C40.9814 36.677 42.8622 32.2571 42.8622 27.0064V27.0064Z\" fill=\"#4285F4\"/>\n",
              "      <path fill-rule=\"evenodd\" clip-rule=\"evenodd\" d=\"M26.3109 43.8555C30.9659 43.8555 34.8687 42.3195 37.7213 39.6863L32.1258 35.3447C30.5898 36.3792 28.6306 37.0061 26.3109 37.0061C21.8282 37.0061 18.0195 33.9811 16.6559 29.906H10.9194V34.3573C13.7563 39.9841 19.5712 43.8555 26.3109 43.8555V43.8555Z\" fill=\"#34A853\"/>\n",
              "      <path fill-rule=\"evenodd\" clip-rule=\"evenodd\" d=\"M16.6559 29.8904C16.3111 28.8559 16.1074 27.7588 16.1074 26.6146C16.1074 25.4704 16.3111 24.3733 16.6559 23.3388V18.8875H10.9194C9.74388 21.2072 9.06992 23.8247 9.06992 26.6146C9.06992 29.4045 9.74388 32.022 10.9194 34.3417L15.3864 30.8621L16.6559 29.8904V29.8904Z\" fill=\"#FBBC05\"/>\n",
              "      <path fill-rule=\"evenodd\" clip-rule=\"evenodd\" d=\"M26.3109 16.2386C28.85 16.2386 31.107 17.1164 32.9095 18.8091L37.8466 13.8719C34.853 11.082 30.9659 9.3736 26.3109 9.3736C19.5712 9.3736 13.7563 13.245 10.9194 18.8875L16.6559 23.3388C18.0195 19.2636 21.8282 16.2386 26.3109 16.2386V16.2386Z\" fill=\"#EA4335\"/>\n",
              "    </svg>\n",
              "    <svg class=\"logo-dark\" width=\"18\" height=\"18\" viewBox=\"0 0 48 48\" xmlns=\"http://www.w3.org/2000/svg\">\n",
              "      <circle cx=\"24\" cy=\"23\" fill=\"#FFF\" r=\"22\"/>\n",
              "      <path d=\"M33.76 34.26c2.75-2.56 4.49-6.37 4.49-11.26 0-.89-.08-1.84-.29-3H24.01v5.99h8.03c-.4 2.02-1.5 3.56-3.07 4.56v.75l3.91 2.97h.88z\" fill=\"#4285F4\"/>\n",
              "      <path d=\"M15.58 25.77A8.845 8.845 0 0 0 24 31.86c1.92 0 3.62-.46 4.97-1.31l4.79 3.71C31.14 36.7 27.65 38 24 38c-5.93 0-11.01-3.4-13.45-8.36l.17-1.01 4.06-2.85h.8z\" fill=\"#34A853\"/>\n",
              "      <path d=\"M15.59 20.21a8.864 8.864 0 0 0 0 5.58l-5.03 3.86c-.98-2-1.53-4.25-1.53-6.64 0-2.39.55-4.64 1.53-6.64l1-.22 3.81 2.98.22 1.08z\" fill=\"#FBBC05\"/>\n",
              "      <path d=\"M24 14.14c2.11 0 4.02.75 5.52 1.98l4.36-4.36C31.22 9.43 27.81 8 24 8c-5.93 0-11.01 3.4-13.45 8.36l5.03 3.85A8.86 8.86 0 0 1 24 14.14z\" fill=\"#EA4335\"/>\n",
              "    </svg>\n",
              "    <div class=\"gradient-container\"><div class=\"gradient\"></div></div>\n",
              "  </div>\n",
              "  <div class=\"carousel\">\n",
              "    <a class=\"chip\" href=\"https://vertexaisearch.cloud.google.com/grounding-api-redirect/AbF9wXHJDKB3lUdkLHvnuPhosW921AxWy1h-EPEzagkl4qgLalNhEXlvEJG75L1dwoRXWXiWhd2tlZ6QWZn6KzjX_I5CTLjmI4dG8D5Hs-G2zf9AnJSNVFF-ffqQ3_3BmD4V9g5muXGpfTDq2ldT2DcRf-2lpLpKEaF6EIYir3R5-6TT0X5wIgB6MtVshKFmeh6mjts1-C-RPi0AkyoEAO_tc4K6lLJkoOCA\">Alura Imersão IA Google Gemini</a>\n",
              "  </div>\n",
              "</div>\n"
            ]
          },
          "metadata": {}
        }
      ]
    },
    {
      "cell_type": "code",
      "source": [
        "# Instalar Framework ADK de agentes do Google ################################################\n",
        "%pip -q install google-adk"
      ],
      "metadata": {
        "id": "hvZ3UnPI4jhJ",
        "colab": {
          "base_uri": "https://localhost:8080/"
        },
        "outputId": "46dd2064-f22c-4b0a-a2db-1638617b60f3"
      },
      "execution_count": null,
      "outputs": [
        {
          "output_type": "stream",
          "name": "stdout",
          "text": [
            "\u001b[?25l   \u001b[90m━━━━━━━━━━━━━━━━━━━━━━━━━━━━━━━━━━━━━━━━\u001b[0m \u001b[32m0.0/1.2 MB\u001b[0m \u001b[31m?\u001b[0m eta \u001b[36m-:--:--\u001b[0m\r\u001b[2K   \u001b[90m━━━━━━━━━━━━━━━━━━━━━━━━━━━━━━━━━━━━━━━━\u001b[0m \u001b[32m1.2/1.2 MB\u001b[0m \u001b[31m55.0 MB/s\u001b[0m eta \u001b[36m0:00:00\u001b[0m\n",
            "\u001b[?25h\u001b[?25l   \u001b[90m━━━━━━━━━━━━━━━━━━━━━━━━━━━━━━━━━━━━━━━━\u001b[0m \u001b[32m0.0/232.1 kB\u001b[0m \u001b[31m?\u001b[0m eta \u001b[36m-:--:--\u001b[0m\r\u001b[2K   \u001b[90m━━━━━━━━━━━━━━━━━━━━━━━━━━━━━━━━━━━━━━━━\u001b[0m \u001b[32m232.1/232.1 kB\u001b[0m \u001b[31m15.1 MB/s\u001b[0m eta \u001b[36m0:00:00\u001b[0m\n",
            "\u001b[?25h\u001b[?25l   \u001b[90m━━━━━━━━━━━━━━━━━━━━━━━━━━━━━━━━━━━━━━━━\u001b[0m \u001b[32m0.0/95.2 kB\u001b[0m \u001b[31m?\u001b[0m eta \u001b[36m-:--:--\u001b[0m\r\u001b[2K   \u001b[90m━━━━━━━━━━━━━━━━━━━━━━━━━━━━━━━━━━━━━━━━\u001b[0m \u001b[32m95.2/95.2 kB\u001b[0m \u001b[31m9.1 MB/s\u001b[0m eta \u001b[36m0:00:00\u001b[0m\n",
            "\u001b[?25h\u001b[?25l   \u001b[90m━━━━━━━━━━━━━━━━━━━━━━━━━━━━━━━━━━━━━━━━\u001b[0m \u001b[32m0.0/217.1 kB\u001b[0m \u001b[31m?\u001b[0m eta \u001b[36m-:--:--\u001b[0m\r\u001b[2K   \u001b[90m━━━━━━━━━━━━━━━━━━━━━━━━━━━━━━━━━━━━━━━━\u001b[0m \u001b[32m217.1/217.1 kB\u001b[0m \u001b[31m18.7 MB/s\u001b[0m eta \u001b[36m0:00:00\u001b[0m\n",
            "\u001b[?25h\u001b[?25l   \u001b[90m━━━━━━━━━━━━━━━━━━━━━━━━━━━━━━━━━━━━━━━━\u001b[0m \u001b[32m0.0/334.1 kB\u001b[0m \u001b[31m?\u001b[0m eta \u001b[36m-:--:--\u001b[0m\r\u001b[2K   \u001b[90m━━━━━━━━━━━━━━━━━━━━━━━━━━━━━━━━━━━━━━━━\u001b[0m \u001b[32m334.1/334.1 kB\u001b[0m \u001b[31m26.7 MB/s\u001b[0m eta \u001b[36m0:00:00\u001b[0m\n",
            "\u001b[?25h\u001b[?25l   \u001b[90m━━━━━━━━━━━━━━━━━━━━━━━━━━━━━━━━━━━━━━━━\u001b[0m \u001b[32m0.0/125.1 kB\u001b[0m \u001b[31m?\u001b[0m eta \u001b[36m-:--:--\u001b[0m\r\u001b[2K   \u001b[90m━━━━━━━━━━━━━━━━━━━━━━━━━━━━━━━━━━━━━━━━\u001b[0m \u001b[32m125.1/125.1 kB\u001b[0m \u001b[31m11.6 MB/s\u001b[0m eta \u001b[36m0:00:00\u001b[0m\n",
            "\u001b[2K   \u001b[90m━━━━━━━━━━━━━━━━━━━━━━━━━━━━━━━━━━━━━━━━\u001b[0m \u001b[32m65.8/65.8 kB\u001b[0m \u001b[31m6.1 MB/s\u001b[0m eta \u001b[36m0:00:00\u001b[0m\n",
            "\u001b[2K   \u001b[90m━━━━━━━━━━━━━━━━━━━━━━━━━━━━━━━━━━━━━━━━\u001b[0m \u001b[32m119.0/119.0 kB\u001b[0m \u001b[31m10.6 MB/s\u001b[0m eta \u001b[36m0:00:00\u001b[0m\n",
            "\u001b[2K   \u001b[90m━━━━━━━━━━━━━━━━━━━━━━━━━━━━━━━━━━━━━━━━\u001b[0m \u001b[32m194.9/194.9 kB\u001b[0m \u001b[31m18.2 MB/s\u001b[0m eta \u001b[36m0:00:00\u001b[0m\n",
            "\u001b[2K   \u001b[90m━━━━━━━━━━━━━━━━━━━━━━━━━━━━━━━━━━━━━━━━\u001b[0m \u001b[32m62.5/62.5 kB\u001b[0m \u001b[31m6.1 MB/s\u001b[0m eta \u001b[36m0:00:00\u001b[0m\n",
            "\u001b[2K   \u001b[90m━━━━━━━━━━━━━━━━━━━━━━━━━━━━━━━━━━━━━━━━\u001b[0m \u001b[32m103.3/103.3 kB\u001b[0m \u001b[31m9.4 MB/s\u001b[0m eta \u001b[36m0:00:00\u001b[0m\n",
            "\u001b[2K   \u001b[90m━━━━━━━━━━━━━━━━━━━━━━━━━━━━━━━━━━━━━━━━\u001b[0m \u001b[32m44.4/44.4 kB\u001b[0m \u001b[31m3.8 MB/s\u001b[0m eta \u001b[36m0:00:00\u001b[0m\n",
            "\u001b[2K   \u001b[90m━━━━━━━━━━━━━━━━━━━━━━━━━━━━━━━━━━━━━━━━\u001b[0m \u001b[32m72.0/72.0 kB\u001b[0m \u001b[31m6.7 MB/s\u001b[0m eta \u001b[36m0:00:00\u001b[0m\n",
            "\u001b[?25h"
          ]
        }
      ]
    },
    {
      "cell_type": "code",
      "execution_count": null,
      "metadata": {
        "id": "aePV2bdfDeoW"
      },
      "outputs": [],
      "source": [
        "from google.adk.agents import Agent\n",
        "from google.adk.runners import Runner\n",
        "from google.adk.sessions import InMemorySessionService\n",
        "from google.adk.tools import google_search\n",
        "from google.genai import types  # Para criar conteúdos (Content e Part)\n",
        "from datetime import date\n",
        "import textwrap # Para formatar melhor a saída de texto\n",
        "from IPython.display import display, Markdown # Para exibir texto formatado no Colab\n",
        "import requests # Para fazer requisições HTTP\n",
        "import warnings\n",
        "\n",
        "warnings.filterwarnings(\"ignore\")"
      ]
    },
    {
      "cell_type": "code",
      "source": [
        "# Função auxiliar que envia uma mensagem para um agente via Runner e retorna a resposta final\n",
        "def call_agent(agent: Agent, message_text: str) -> str:\n",
        "    # Cria um serviço de sessão em memória\n",
        "    session_service = InMemorySessionService()\n",
        "    # Cria uma nova sessão (você pode personalizar os IDs conforme necessário)\n",
        "    session = session_service.create_session(app_name=agent.name, user_id=\"user1\", session_id=\"session1\")\n",
        "    # Cria um Runner para o agente\n",
        "    runner = Runner(agent=agent, app_name=agent.name, session_service=session_service)\n",
        "    # Cria o conteúdo da mensagem de entrada\n",
        "    content = types.Content(role=\"user\", parts=[types.Part(text=message_text)])\n",
        "\n",
        "    final_response = \"\"\n",
        "    # Itera assincronamente pelos eventos retornados durante a execução do agente\n",
        "    for event in runner.run(user_id=\"user1\", session_id=\"session1\", new_message=content):\n",
        "        if event.is_final_response():\n",
        "          for part in event.content.parts:\n",
        "            if part.text is not None:\n",
        "              final_response += part.text\n",
        "              final_response += \"\\n\"\n",
        "    return final_response"
      ],
      "metadata": {
        "id": "_xP4lWhsS5ko"
      },
      "execution_count": null,
      "outputs": []
    },
    {
      "cell_type": "code",
      "source": [
        "# Função auxiliar para exibir texto formatado em Markdown no Colab\n",
        "def to_markdown(text):\n",
        "  text = text.replace('•', '  *')\n",
        "  return Markdown(textwrap.indent(text, '> ', predicate=lambda _: True))"
      ],
      "metadata": {
        "id": "8dosiodaxfFR"
      },
      "execution_count": null,
      "outputs": []
    },
    {
      "cell_type": "code",
      "source": [
        "##########################################\n",
        "# --- Agente 1: Buscador de Notícias --- #\n",
        "##########################################\n",
        "def agente_buscador(topico, data_de_hoje):\n",
        "    buscador = Agent(\n",
        "        name=\"agente_buscador\",\n",
        "        model=\"gemini-2.0-flash\",\n",
        "        description=\"Agente que busca informações no Google\",\n",
        "        tools=[google_search],\n",
        "        instruction=\"\"\"\n",
        "        Você é um assistente de pesquisa. A sua tarefa é usar a ferramenta de busca do Google (google_search)\n",
        "        para recuperar as últimas notícias de lançamentos muito relevantes sobre o tópico abaixo.\n",
        "        Foque em no máximo 5 lançamentos relevantes, com base na quantidade e entusiasmo das notícias sobre ele.\n",
        "        Se um tema tiver poucas notícias ou reações entusiasmadas, é possível que ele  não seja tão relevante assim\n",
        "        e pode ser substituído por outro que tenha mais.\n",
        "        Esses lançamentos relevantes devem ser atuais, de no máximo um mês antes da data de hoje.\n",
        "        \"\"\"\n",
        "    )\n",
        "    entrada_do_agente_buscador = f\"Tópico: {topico}\\nData de hoje: {data_de_hoje}\"\n",
        "    lancamentos = call_agent(buscador, entrada_do_agente_buscador)\n",
        "    return lancamentos"
      ],
      "metadata": {
        "id": "o8bqIfi_DyH8"
      },
      "execution_count": null,
      "outputs": []
    },
    {
      "cell_type": "code",
      "source": [
        "################################################\n",
        "# --- Agente 2: Planejador de posts --- #\n",
        "################################################\n",
        "def agente_planejador(topico, lancamentos_buscados):\n",
        "    planejador = Agent(\n",
        "        name=\"agente_planejador\",\n",
        "        model=\"gemini-2.0-flash\",\n",
        "        # Inserir as instruções do Agente Planejador #################################################\n",
        "        instruction=\"\"\"\n",
        "        Você é um planejador de conteúdo, especialista em redes sociais. Com base na lista de\n",
        "        lançamentos mais recentes e relevantes buscados, você deve:\n",
        "        usar a ferramenta de busca do google (google_search) para criar um plano sobre\n",
        "        quais são os pontos mais relevantes que poderíamos abordar em um post sobre\n",
        "        cada um deles. Você também pode usar o (google_search) para encontrar mais informações\n",
        "        sobre os temas e aprofundar.\n",
        "        Ao final, você irá escolher o tema mais relevante entre eles com base nas suas pesquisas\n",
        "        e retornar esse tema, seus pontos mais relevantes, e um plano com os assuntos a serem\n",
        "        abordados no post que será escrito posteriormente.\n",
        "        \"\"\",\n",
        "        description=\"Agente que planeja posts\",\n",
        "        tools=[google_search]\n",
        "    )\n",
        "\n",
        "    entrada_do_agente_planejador = f\"Tópico:{topico}\\nLançamentos buscados: {lancamentos_buscados}\"\n",
        "    # Executa o agente\n",
        "    plano_do_post = call_agent(planejador, entrada_do_agente_planejador)\n",
        "    return plano_do_post"
      ],
      "metadata": {
        "id": "y3VO1uo5_ghO"
      },
      "execution_count": null,
      "outputs": []
    },
    {
      "cell_type": "code",
      "source": [
        "######################################\n",
        "# --- Agente 3: Redator do Post --- #\n",
        "######################################\n",
        "def agente_redator(topico, plano_de_post):\n",
        "    redator = Agent(\n",
        "        name=\"agente_redator\",\n",
        "        model=\"gemini-2.5-pro-preview-03-25\",\n",
        "        instruction=\"\"\"\n",
        "            Você é um Redator Criativo especializado em criar posts virais para redes sociais.\n",
        "            Você escreve posts para a empresa Alura, a maior escola online de tecnologia do Brasil.\n",
        "            Utilize o tema fornecido no plano de post e os pontos mais relevantes fornecidos e, com base nisso,\n",
        "            escreva um rascunho de post para Instagram sobre o tema indicado.\n",
        "            O post deve ser engajador, informativo, com linguagem simples e incluir 2 a 4 hashtags no final.\n",
        "            \"\"\",\n",
        "        description=\"Agente redator de posts engajadores para Instagram\"\n",
        "    )\n",
        "    entrada_do_agente_redator = f\"Tópico: {topico}\\nPlano de post: {plano_de_post}\"\n",
        "    # Executa o agente\n",
        "    rascunho = call_agent(redator, entrada_do_agente_redator)\n",
        "    return rascunho"
      ],
      "metadata": {
        "id": "uOqlg2TRLVh1"
      },
      "execution_count": null,
      "outputs": []
    },
    {
      "cell_type": "code",
      "source": [
        "##########################################\n",
        "# --- Agente 4: Revisor de Qualidade --- #\n",
        "##########################################\n",
        "def agente_revisor(topico, rascunho_gerado):\n",
        "    revisor = Agent(\n",
        "        name=\"agente_revisor\",\n",
        "        model=\"gemini-2.5-pro-preview-03-25\",\n",
        "        instruction=\"\"\"\n",
        "            Você é um Editor e Revisor de Conteúdo meticuloso, especializado em posts para redes sociais, com foco no Instagram.\n",
        "            Por ter um público jovem, entre 18 e 30 anos, use um tom de escrita adequado.\n",
        "            Revise o rascunho de post de Instagram abaixo sobre o tópico indicado, verificando clareza, concisão, correção e tom.\n",
        "            Se o rascunho estiver bom, responda apenas 'O rascunho está ótimo e pronto para publicar!'.\n",
        "            Caso haja problemas, aponte-os e sugira melhorias.\n",
        "            \"\"\",\n",
        "        description=\"Agente revisor de post para redes sociais.\"\n",
        "    )\n",
        "    entrada_do_agente_revisor = f\"Tópico: {topico}\\nRascunho: {rascunho_gerado}\"\n",
        "    # Executa o agente\n",
        "    texto_revisado = call_agent(revisor, entrada_do_agente_revisor)\n",
        "    return texto_revisado"
      ],
      "metadata": {
        "id": "_aTb1SdkLeT6"
      },
      "execution_count": null,
      "outputs": []
    },
    {
      "cell_type": "code",
      "source": [
        "data_de_hoje = date.today().strftime(\"%d/%m/%Y\")\n",
        "\n",
        "print(\"🚀 Iniciando o Sistema de Criação de Posts para Instagram com 4 Agentes 🚀\")\n",
        "\n",
        "# --- Obter o Tópico do Usuário ---\n",
        "topico = input(\"❓ Por favor, digite o TÓPICO sobre o qual você quer criar o post de tendências: \")\n",
        "\n",
        "# Inserir lógica do sistema de agentes ################################################\n",
        "if not topico:\n",
        "  print(\"Esqueceu de digitar o tópico? 🤔\")\n",
        "else:\n",
        "  print(f\"Maravilha! Vamos criar o post sobre {topico}\")\n",
        "  lancamentos_buscados = agente_buscador(topico, data_de_hoje)\n",
        "  print(\"\\n--- Resultado do Agente 1 (Buscador) ---\\n\")\n",
        "  display(to_markdown(lancamentos_buscados))\n",
        "  print(\"---------------------------------------------------\")\n",
        "\n",
        "  plano_de_post = agente_planejador(topico, lancamentos_buscados)\n",
        "  print(\"\\n--- Resultado do Agente 2 (Planejador) ---\\n\")\n",
        "  display(to_markdown(plano_de_post))\n",
        "  print(\"---------------------------------------------------\")\n",
        "\n",
        "  rascunho_de_post = agente_redator(topico, plano_de_post)\n",
        "  print(\"\\n--- Resultado do Agente 3 (Redator) ---\\n\")\n",
        "  display(to_markdown(rascunho_de_post))\n",
        "  print(\"---------------------------------------------------\")\n",
        "\n",
        "  post_final = agente_revisor(topico, rascunho_de_post)\n",
        "  print(\"\\n--- Resultado do Agente 4 (Revisor) ---\\n\")\n",
        "  display(to_markdown(post_final))\n",
        "  print(\"---------------------------------------------------\")\n"
      ],
      "metadata": {
        "id": "630ummxz4myx",
        "colab": {
          "base_uri": "https://localhost:8080/",
          "height": 1000
        },
        "outputId": "02f7944d-42e1-4ba3-dfd1-0d9eb6e8443e"
      },
      "execution_count": null,
      "outputs": [
        {
          "output_type": "stream",
          "name": "stdout",
          "text": [
            "🚀 Iniciando o Sistema de Criação de Posts para Instagram com 4 Agentes 🚀\n",
            "❓ Por favor, digite o TÓPICO sobre o qual você quer criar o post de tendências: cpi das bets\n",
            "Maravilha! Vamos criar o post sobre cpi das bets\n",
            "\n",
            "--- Resultado do Agente 1 (Buscador) ---\n",
            "\n"
          ]
        },
        {
          "output_type": "display_data",
          "data": {
            "text/plain": [
              "<IPython.core.display.Markdown object>"
            ],
            "text/markdown": "> Para encontrar os lançamentos mais relevantes relacionados à CPI das Bets no último mês, farei algumas pesquisas no Google.\n> \n> \n> Com base nas notícias mais recentes sobre a CPI das Bets, os lançamentos mais relevantes incluem:\n> \n> 1.  **Depoimentos de Influenciadores:** A CPI tem focado em ouvir influenciadores digitais e celebridades que promovem plataformas de apostas online. Recentemente, Virginia Fonseca e Rico Melquiades prestaram depoimentos (13 e 14 de maio, respectivamente). Outros nomes como Gusttavo Lima, Wesley Safadão, Gkay, e Jojo Todynho também estão na mira da CPI, seja como convocados ou convidados.\n> 2.  **Investigação sobre Vínculos Financeiros:** A CPI investiga se os influenciadores lucram com as perdas dos apostadores e se há irregularidades nos recebimentos ou vínculos com empresas barradas pelo governo. Há também foco na relação entre plataformas de apostas e possíveis crimes financeiros, como lavagem de dinheiro.\n> 3.  **Operação Game Over:** O influenciador Rico Melquiades foi questionado sobre seu envolvimento na Operação Game Over, que investiga a promoção irregular de jogos de azar online.\n> 4.  **Foco na Saúde Mental:** A CPI também está debatendo os efeitos do vício em apostas online e a importância de procurar ajuda especializada, com alertas sobre os efeitos psicológicos da prática compulsiva.\n> 5.  **Prorrogação da CPI:** A CPI das Bets tem previsão de encerramento em 14 de junho, com remotas chances de prorrogação.\n> \n> \n"
          },
          "metadata": {}
        },
        {
          "output_type": "stream",
          "name": "stdout",
          "text": [
            "---------------------------------------------------\n",
            "\n",
            "--- Resultado do Agente 2 (Planejador) ---\n",
            "\n"
          ]
        },
        {
          "output_type": "display_data",
          "data": {
            "text/plain": [
              "<IPython.core.display.Markdown object>"
            ],
            "text/markdown": "> Okay, com base nos lançamentos mais recentes sobre a CPI das Bets, vou criar um plano de conteúdo com os pontos mais relevantes para abordar em posts nas redes sociais.\n> \n> \n> Com base nas pesquisas, o tema mais relevante para abordar em um post sobre a CPI das Bets é:\n> \n> **O Impacto da CPI das Bets na Saúde Mental dos Apostadores e a Responsabilidade dos Influenciadores.**\n> \n> **Pontos Relevantes:**\n> \n> *   **Crescente preocupação com a saúde mental:** A CPI está debatendo os efeitos do vício em apostas online e a importância de procurar ajuda especializada, com alertas sobre os efeitos psicológicos da prática compulsiva (ludopatia).\n> *   **Influenciadores sob investigação:** Figuras públicas que promovem plataformas de apostas estão sendo investigadas para determinar se lucram com as perdas dos apostadores e se há irregularidades nos recebimentos ou vínculos com empresas barradas pelo governo.\n> *   **Necessidade de regulamentação:** A CPI busca criar regras para limitar as apostas no país e prevenir o vício em jogos.\n> *   **Apoio e tratamento:** Destacar a importância de informar, escutar e não julgar os viciados em jogos, mencionando que a ludopatia é uma doença tratável com apoio e terapia.\n> \n> **Plano de Conteúdo para o Post:**\n> \n> 1.  **Introdução:**\n>     *   Contextualizar a CPI das Bets e seu objetivo de investigar os impactos das apostas online nas famílias brasileiras.\n>     *   Destacar a crescente preocupação com a saúde mental dos apostadores e o papel dos influenciadores nesse cenário.\n> 2.  **Desenvolvimento:**\n>     *   **O impacto na saúde mental:**\n>         *   Explicar o que é ludopatia (vício em jogos) e seus sintomas (ansiedade, depressão, culpa, impulsividade, insônia, etc.).\n>         *   Mencionar que a ludopatia é uma doença reconhecida pela medicina e que muitos só procuram ajuda após perder dinheiro, relacionamentos e autoestima.\n>     *   **A responsabilidade dos influenciadores:**\n>         *   Discutir como a publicidade feita por influenciadores pode normalizar ou encobrir práticas questionáveis nas apostas online.\n>         *   Citar os nomes de influenciadores que estão sendo investigados pela CPI (Virginia Fonseca, Rico Melquiades, Gusttavo Lima, Wesley Safadão, Gkay, Jojo Todynho, etc.) e os motivos de suas convocações.\n>         *   Explicar a diferença entre investigados e testemunhas na CPI.\n>     *   **A busca por regulamentação:**\n>         *   Informar que a CPI busca criar regras para limitar as apostas no país e prevenir o vício em jogos.\n>         *   Mencionar a prorrogação da CPI e a possibilidade de novas oitivas.\n> 3.  **Conclusão:**\n>     *   Reforçar a importância de cuidar da saúde mental e buscar ajuda caso sofra com o vício em jogos.\n>     *   Oferecer informações sobre onde encontrar apoio e tratamento (grupos de apoio, terapia individual, etc.).\n>     *   Incentivar a discussão sobre a regulamentação das apostas online e a responsabilidade dos influenciadores.\n> 4.  **Chamada para ação (CTA):**\n>     *   Perguntar aos seguidores se eles conhecem alguém que sofre com o vício em jogos e incentivá-los a compartilhar informações sobre o tema.\n>     *   Convidar os seguidores a expressarem suas opiniões sobre a regulamentação das apostas online e a responsabilidade dos influenciadores.\n> \n> **Hashtags:** \\#CPIdasBets \\#ApostasOnline \\#SaudeMental \\#Ludopatia \\#Influenciadores \\#Regulamentacao \\#VicioEmJogos\n> \n"
          },
          "metadata": {}
        },
        {
          "output_type": "stream",
          "name": "stdout",
          "text": [
            "---------------------------------------------------\n",
            "\n",
            "--- Resultado do Agente 3 (Redator) ---\n",
            "\n"
          ]
        },
        {
          "output_type": "display_data",
          "data": {
            "text/plain": [
              "<IPython.core.display.Markdown object>"
            ],
            "text/markdown": "> Okay, Alura! Prontos para mergulhar em um tema quente que tá dando o que falar? 🔥\n> \n> ---\n> \n> **RASCUNHO DE POST PARA INSTAGRAM**\n> \n> **(Imagem/Carrossel Sugerido: Uma arte gráfica com o título \"CPI das Bets: O Jogo da Saúde Mental e a Responsabilidade dos Influencers\" ou imagens que remetam a atenção, debate, e cuidado com a saúde mental, evitando imagens diretas de apostas ou cassinos.)**\n> \n> ---\n> \n> **Legenda:**\n> \n> Você tem acompanhado a CPI das Bets? 🧐 Mais do que investigar fraudes, ela está acendendo um alerta importantíssimo sobre a **saúde mental** dos apostadores e o papel dos **influenciadores digitais** nesse universo.\n> \n> A preocupação é crescente: o vício em apostas online, conhecido como **ludopatia**, é uma doença séria. 🧠 Ela pode desencadear ansiedade, depressão, culpa e levar a perdas financeiras e de relacionamentos. Muitos só buscam ajuda quando o estrago já é grande.\n> \n> E os influenciadores? 🤔 Figuras públicas como Virginia Fonseca, Gusttavo Lima, Jojo Todynho e outros estão sendo convocados pela CPI. A investigação busca entender se há lucro sobre as perdas dos seguidores e se as promoções de plataformas de apostas são transparentes e éticas. É crucial diferenciar quem é chamado como testemunha e quem é investigado.\n> \n> Por isso, a CPI também quer criar **regras mais claras** para as apostas no Brasil, buscando proteger os cidadãos e prevenir o vício. 📜\n> \n> **O mais importante:**\n> Se você ou alguém que conhece está enfrentando dificuldades com apostas:\n> 1.  **INFORME-SE:** Entenda os riscos e os sinais do vício.\n> 2.  **ESCUTE SEM JULGAR:** Acolhimento é fundamental.\n> 3.  **BUSQUE AJUDA:** Ludopatia tem tratamento! Terapia e grupos de apoio podem fazer toda a diferença.\n> \n> Este é um debate necessário sobre responsabilidade, informação e, acima de tudo, cuidado com as pessoas. ❤️\n> \n> 💬 E aí, qual a sua opinião sobre a regulamentação das bets e a responsabilidade dos influenciadores? Você conhece alguém que precisa ler sobre isso? Compartilhe e vamos conversar! 👇\n> \n> \\#CPIdasBets \\#SaudeMental \\#ApostasOnline \\#Regulamentacao\n"
          },
          "metadata": {}
        },
        {
          "output_type": "stream",
          "name": "stdout",
          "text": [
            "---------------------------------------------------\n",
            "\n",
            "--- Resultado do Agente 4 (Revisor) ---\n",
            "\n"
          ]
        },
        {
          "output_type": "display_data",
          "data": {
            "text/plain": [
              "<IPython.core.display.Markdown object>"
            ],
            "text/markdown": "> Opa! O rascunho tem uma base muito boa, abordando pontos cruciais da CPI das Bets e conectando com a saúde mental e a responsabilidade dos influenciadores. A estrutura está lógica e a preocupação com a imagem também é pertinente.\n> \n> No entanto, tenho algumas sugestões para deixar o post ainda mais alinhado com o público jovem (18-30 anos) e otimizado para o Instagram:\n> \n> **Problemas e Sugestões de Melhoria:**\n> \n> 1.  **\"Okay, Alura! Prontos para mergulhar em um tema quente que tá dando o que falar? 🔥\"**\n>     *   **Problema:** Essa frase parece uma instrução para você (Alura) ou um início de conversa informal que não se encaixa como abertura de um post público. O público não vai entender quem é \"Alura\" nesse contexto.\n>     *   **Sugestão:** Remover essa frase completamente e começar o post com um gancho mais direto e que fale com o público.\n> \n> 2.  **Tom e Linguagem:**\n>     *   **Problema:** Embora o tom geral seja bom, algumas frases podem ser um pouco formais ou densas para um post de Instagram que visa engajamento rápido.\n>     *   **Sugestão:** Usar uma linguagem ainda mais próxima, com gírias leves (se apropriado para a marca) e frases mais curtas e diretas. Quebrar parágrafos maiores.\n> \n> 3.  **Concisão e Clareza Inicial:**\n>     *   **Problema:** O primeiro parágrafo da legenda é bom, mas podemos torná-lo mais direto ao ponto.\n>     *   **Sugestão:** Veja a reescrita abaixo.\n> \n> 4.  **Estrutura para Escaneabilidade:**\n>     *   **Problema:** Textos longos no Instagram podem afastar o leitor.\n>     *   **Sugestão:** Usar mais quebras de linha, bullet points (como você já fez na parte da ajuda, o que é ótimo!) ou emojis para separar ideias e facilitar a leitura dinâmica.\n> \n> ---\n> \n> **Sugestão de Rascunho Revisado:**\n> \n> **(Imagem/Carrossel Sugerido: Manter a sugestão original – arte gráfica \"CPI das Bets: O Jogo da Saúde Mental e a Responsabilidade dos Influencers\" ou imagens que remetam a atenção, debate, e cuidado com a saúde mental, evitando imagens diretas de apostas ou cassinos.)**\n> \n> ---\n> \n> **Legenda Revisada:**\n> \n> E aí, galera! 🎮 Já tão ligados na CPI das Bets? Esse rolê vai MUITO além de investigar fraudes e tá botando o dedo na ferida sobre um assunto mega importante: a **saúde mental** de quem aposta e qual o papel dos **influencers** nisso tudo. 🧐\n> \n> Sério, o alerta tá ligado! 🚨 O vício em apostas online, a tal da **ludopatia**, é uma doença real e pode bagunçar a vida:\n> *   Ansiedade e deprê nas alturas 😥\n> *   Culpa constante 😔\n> *   Prejuízos financeiros GIGANTES 💸\n> *   Problemas nos relacionamentos 💔\n> Muitos só se tocam do problema quando o estrago já tá feito.\n> \n> E os influencers nessa história? 🤔 Nomes como Virginia Fonseca, Gusttavo Lima, Jojo Todynho e outros foram chamados pra dar um papo na CPI. A ideia é sacar se rola lucro em cima da perda dos seguidores e se a publi das bets é feita na transparência e na ética. É chave entender quem tá lá como testemunha e quem tá sendo investigado, viu?\n> \n> Por isso, a CPI também quer botar ordem na casa e criar **regras mais claras** pras apostas no Brasil. Tudo pra proteger a galera e evitar que o vício se espalhe. 📜\n> \n> **O MAIS IMPORTANTE:** 👇\n> Se você ou alguém que você conhece tá passando perrengue com apostas:\n> 1.  **SE INFORMA:** Entenda os riscos e os sinais do vício. Conhecimento é poder!\n> 2.  **ESCUTA SEM JULGAR:** Apoio e acolhimento fazem toda a diferença.\n> 3.  **BUSQUE AJUDA PROFISSIONAL:** Ludopatia tem tratamento! Terapia e grupos de apoio salvam.\n> \n> Esse debate é super necessário e fala sobre responsa, informação e, principalmente, cuidado com as pessoas. ❤️\n> \n> 💬 Manda a real: qual sua opinião sobre a regulamentação das bets e a responsa dos influencers? Conhece alguém que precisa ler este post? Compartilha aí e bora trocar uma ideia! 👇\n> \n> \\#CPIdasBets \\#SaudeMental \\#ApostasOnline \\#Regulamentacao \\#Influenciadores \\#ResponsabilidadeDigital\n> \n> ---\n> \n> **Principais Mudanças e Justificativas:**\n> \n> *   **Remoção da saudação \"Okay, Alura!\"**: Essencial para um post público.\n> *   **Linguagem mais jovem e dinâmica**: Uso de \"galera\", \"tão ligados\", \"rolê\", \"botando o dedo na ferida\", \"mega importante\", \"alerta tá ligado\", \"tal da ludopatia\", \"bagunçar a vida\", \"nas alturas\", \"prejuízos GIGANTES\", \"se tocam\", \"dar um papo\", \"sacar se rola\", \"publi\", \"na transparência\", \"chave\", \"botar ordem na casa\", \"proteger a galera\", \"passando perrengue\", \"conhecimento é poder\", \"salvam\", \"super necessário\", \"responsa\", \"manda a real\", \"trocar uma ideia\".\n> *   **Emojis mais integrados**: Para quebrar o texto e adicionar apelo visual.\n> *   **Bullet points para os impactos da ludopatia**: Melhora a escaneabilidade.\n> *   **Frases mais curtas e diretas**: Facilitam a leitura rápida.\n> *   **Adição de hashtags relevantes**: Como #Influenciadores e #ResponsabilidadeDigital.\n> \n> Com essas alterações, acredito que o post ficará ainda mais atrativo e eficaz para o público-alvo no Instagram!\n"
          },
          "metadata": {}
        },
        {
          "output_type": "stream",
          "name": "stdout",
          "text": [
            "---------------------------------------------------\n"
          ]
        }
      ]
    }
  ]
}