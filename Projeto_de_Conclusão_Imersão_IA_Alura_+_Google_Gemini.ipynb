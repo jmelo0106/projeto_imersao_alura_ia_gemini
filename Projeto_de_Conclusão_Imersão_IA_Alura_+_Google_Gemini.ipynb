{
  "nbformat": 4,
  "nbformat_minor": 0,
  "metadata": {
    "colab": {
      "provenance": []
    },
    "kernelspec": {
      "name": "python3",
      "display_name": "Python 3"
    },
    "language_info": {
      "name": "python"
    }
  },
  "cells": [
    {
      "cell_type": "code",
      "source": [
        "%pip -q install google-genai"
      ],
      "metadata": {
        "id": "UCCbECexLk_h"
      },
      "execution_count": 4,
      "outputs": []
    },
    {
      "cell_type": "code",
      "source": [
        "# Configura a API Key do Google Gemini\n",
        "\n",
        "import os\n",
        "from google.colab import userdata\n",
        "\n",
        "os.environ[\"GOOGLE_API_KEY\"] = userdata.get('GOOGLE_API_KEY')"
      ],
      "metadata": {
        "id": "NfCqHo1tLk8P"
      },
      "execution_count": 5,
      "outputs": []
    },
    {
      "cell_type": "code",
      "source": [
        "# Configura o cliente da SDK do Gemini\n",
        "\n",
        "from google import genai\n",
        "\n",
        "client = genai.Client()\n",
        "\n",
        "MODEL_ID = \"gemini-2.0-flash\""
      ],
      "metadata": {
        "id": "bV4w0H5TLk5g"
      },
      "execution_count": 6,
      "outputs": []
    },
    {
      "cell_type": "code",
      "source": [
        "# Instalar Framework ADK de agentes do Google ################################################\n",
        "%pip -q install google-adk"
      ],
      "metadata": {
        "id": "hvZ3UnPI4jhJ",
        "colab": {
          "base_uri": "https://localhost:8080/"
        },
        "outputId": "2a333247-ef88-4faa-fc67-775044126b05"
      },
      "execution_count": 8,
      "outputs": [
        {
          "output_type": "stream",
          "name": "stdout",
          "text": [
            "\u001b[?25l   \u001b[90m━━━━━━━━━━━━━━━━━━━━━━━━━━━━━━━━━━━━━━━━\u001b[0m \u001b[32m0.0/1.2 MB\u001b[0m \u001b[31m?\u001b[0m eta \u001b[36m-:--:--\u001b[0m\r\u001b[2K   \u001b[91m━━━━━━━━━━━━━━━━━━\u001b[0m\u001b[90m╺\u001b[0m\u001b[90m━━━━━━━━━━━━━━━━━━━━━\u001b[0m \u001b[32m0.5/1.2 MB\u001b[0m \u001b[31m16.0 MB/s\u001b[0m eta \u001b[36m0:00:01\u001b[0m\r\u001b[2K   \u001b[90m━━━━━━━━━━━━━━━━━━━━━━━━━━━━━━━━━━━━━━━━\u001b[0m \u001b[32m1.2/1.2 MB\u001b[0m \u001b[31m18.0 MB/s\u001b[0m eta \u001b[36m0:00:00\u001b[0m\n",
            "\u001b[?25h\u001b[?25l   \u001b[90m━━━━━━━━━━━━━━━━━━━━━━━━━━━━━━━━━━━━━━━━\u001b[0m \u001b[32m0.0/232.1 kB\u001b[0m \u001b[31m?\u001b[0m eta \u001b[36m-:--:--\u001b[0m\r\u001b[2K   \u001b[90m━━━━━━━━━━━━━━━━━━━━━━━━━━━━━━━━━━━━━━━━\u001b[0m \u001b[32m232.1/232.1 kB\u001b[0m \u001b[31m12.8 MB/s\u001b[0m eta \u001b[36m0:00:00\u001b[0m\n",
            "\u001b[?25h\u001b[?25l   \u001b[90m━━━━━━━━━━━━━━━━━━━━━━━━━━━━━━━━━━━━━━━━\u001b[0m \u001b[32m0.0/95.2 kB\u001b[0m \u001b[31m?\u001b[0m eta \u001b[36m-:--:--\u001b[0m\r\u001b[2K   \u001b[90m━━━━━━━━━━━━━━━━━━━━━━━━━━━━━━━━━━━━━━━━\u001b[0m \u001b[32m95.2/95.2 kB\u001b[0m \u001b[31m5.7 MB/s\u001b[0m eta \u001b[36m0:00:00\u001b[0m\n",
            "\u001b[2K   \u001b[90m━━━━━━━━━━━━━━━━━━━━━━━━━━━━━━━━━━━━━━━━\u001b[0m \u001b[32m217.1/217.1 kB\u001b[0m \u001b[31m13.5 MB/s\u001b[0m eta \u001b[36m0:00:00\u001b[0m\n",
            "\u001b[2K   \u001b[90m━━━━━━━━━━━━━━━━━━━━━━━━━━━━━━━━━━━━━━━━\u001b[0m \u001b[32m334.1/334.1 kB\u001b[0m \u001b[31m19.7 MB/s\u001b[0m eta \u001b[36m0:00:00\u001b[0m\n",
            "\u001b[2K   \u001b[90m━━━━━━━━━━━━━━━━━━━━━━━━━━━━━━━━━━━━━━━━\u001b[0m \u001b[32m125.1/125.1 kB\u001b[0m \u001b[31m8.4 MB/s\u001b[0m eta \u001b[36m0:00:00\u001b[0m\n",
            "\u001b[2K   \u001b[90m━━━━━━━━━━━━━━━━━━━━━━━━━━━━━━━━━━━━━━━━\u001b[0m \u001b[32m65.8/65.8 kB\u001b[0m \u001b[31m3.3 MB/s\u001b[0m eta \u001b[36m0:00:00\u001b[0m\n",
            "\u001b[2K   \u001b[90m━━━━━━━━━━━━━━━━━━━━━━━━━━━━━━━━━━━━━━━━\u001b[0m \u001b[32m119.0/119.0 kB\u001b[0m \u001b[31m8.4 MB/s\u001b[0m eta \u001b[36m0:00:00\u001b[0m\n",
            "\u001b[2K   \u001b[90m━━━━━━━━━━━━━━━━━━━━━━━━━━━━━━━━━━━━━━━━\u001b[0m \u001b[32m194.9/194.9 kB\u001b[0m \u001b[31m12.8 MB/s\u001b[0m eta \u001b[36m0:00:00\u001b[0m\n",
            "\u001b[2K   \u001b[90m━━━━━━━━━━━━━━━━━━━━━━━━━━━━━━━━━━━━━━━━\u001b[0m \u001b[32m62.5/62.5 kB\u001b[0m \u001b[31m3.4 MB/s\u001b[0m eta \u001b[36m0:00:00\u001b[0m\n",
            "\u001b[2K   \u001b[90m━━━━━━━━━━━━━━━━━━━━━━━━━━━━━━━━━━━━━━━━\u001b[0m \u001b[32m103.3/103.3 kB\u001b[0m \u001b[31m6.5 MB/s\u001b[0m eta \u001b[36m0:00:00\u001b[0m\n",
            "\u001b[2K   \u001b[90m━━━━━━━━━━━━━━━━━━━━━━━━━━━━━━━━━━━━━━━━\u001b[0m \u001b[32m44.4/44.4 kB\u001b[0m \u001b[31m2.3 MB/s\u001b[0m eta \u001b[36m0:00:00\u001b[0m\n",
            "\u001b[2K   \u001b[90m━━━━━━━━━━━━━━━━━━━━━━━━━━━━━━━━━━━━━━━━\u001b[0m \u001b[32m72.0/72.0 kB\u001b[0m \u001b[31m4.9 MB/s\u001b[0m eta \u001b[36m0:00:00\u001b[0m\n",
            "\u001b[?25h"
          ]
        }
      ]
    },
    {
      "cell_type": "code",
      "execution_count": 9,
      "metadata": {
        "id": "aePV2bdfDeoW"
      },
      "outputs": [],
      "source": [
        "from google.adk.agents import Agent\n",
        "from google.adk.runners import Runner\n",
        "from google.adk.sessions import InMemorySessionService\n",
        "from google.adk.tools import google_search\n",
        "from google.genai import types  # Para criar conteúdos (Content e Part)\n",
        "from datetime import date\n",
        "import textwrap # Para formatar melhor a saída de texto\n",
        "from IPython.display import display, Markdown # Para exibir texto formatado no Colab\n",
        "import requests # Para fazer requisições HTTP\n",
        "import warnings\n",
        "\n",
        "warnings.filterwarnings(\"ignore\")"
      ]
    },
    {
      "cell_type": "code",
      "source": [
        "# Função auxiliar que envia uma mensagem para um agente via Runner e retorna a resposta final\n",
        "def call_agent(agent: Agent, message_text: str) -> str:\n",
        "    # Cria um serviço de sessão em memória\n",
        "    session_service = InMemorySessionService()\n",
        "    # Cria uma nova sessão (você pode personalizar os IDs conforme necessário)\n",
        "    session = session_service.create_session(app_name=agent.name, user_id=\"user1\", session_id=\"session1\")\n",
        "    # Cria um Runner para o agente\n",
        "    runner = Runner(agent=agent, app_name=agent.name, session_service=session_service)\n",
        "    # Cria o conteúdo da mensagem de entrada\n",
        "    content = types.Content(role=\"user\", parts=[types.Part(text=message_text)])\n",
        "\n",
        "    final_response = \"\"\n",
        "    # Itera assincronamente pelos eventos retornados durante a execução do agente\n",
        "    for event in runner.run(user_id=\"user1\", session_id=\"session1\", new_message=content):\n",
        "        if event.is_final_response():\n",
        "          for part in event.content.parts:\n",
        "            if part.text is not None:\n",
        "              final_response += part.text\n",
        "              final_response += \"\\n\"\n",
        "    return final_response"
      ],
      "metadata": {
        "id": "_xP4lWhsS5ko"
      },
      "execution_count": 10,
      "outputs": []
    },
    {
      "cell_type": "code",
      "source": [
        "# Função auxiliar para exibir texto formatado em Markdown no Colab\n",
        "def to_markdown(text):\n",
        "  text = text.replace('•', '  *')\n",
        "  return Markdown(textwrap.indent(text, '> ', predicate=lambda _: True))"
      ],
      "metadata": {
        "id": "8dosiodaxfFR"
      },
      "execution_count": 11,
      "outputs": []
    },
    {
      "cell_type": "code",
      "source": [
        "##########################################\n",
        "# --- Agente 1: Buscador de Conteúdo --- #\n",
        "##########################################\n",
        "def agente_buscador(materia,assunto):\n",
        "    buscador = Agent(\n",
        "        name=\"agente_buscador\",\n",
        "        model=\"gemini-2.0-flash\",\n",
        "        description=\"Agente que busca informações no Google\",\n",
        "        tools=[google_search],\n",
        "        instruction=\"\"\"\n",
        "        Você é um tutor virtual especializado em fornecer conteúdo de estudo de alta qualidade. O usuário irá informar a matéria e o tópico desejado. Sua tarefa é gerar uma explicação clara e concisa do conceito, incluindo:\n",
        "        Uma introdução ao tópico: Defina o conceito principal de forma acessível.\n",
        "        Explicações detalhadas: Apresente os aspectos chave do tópico de maneira lógica e sequencial.\n",
        "        Exemplos práticos: Ilustre o conceito com exemplos concretos e relevantes que ajudem na compreensão. Se aplicável, apresente a resolução passo a passo dos exemplos.\n",
        "        Analogias ou comparações (opcional, mas útil): Utilize analogias ou compare o conceito com algo familiar para facilitar a assimilação.\n",
        "        Pontos chave ou resumos: Destaque os pontos mais importantes para reforçar o aprendizado.\n",
        "        \"\"\"\n",
        "    )\n",
        "    entrada_do_agente_buscador = f\"Materia: {materia}\\nAssunto: {assunto}\"\n",
        "    lancamentos = call_agent(buscador, entrada_do_agente_buscador)\n",
        "    return lancamentos"
      ],
      "metadata": {
        "id": "o8bqIfi_DyH8"
      },
      "execution_count": 12,
      "outputs": []
    },
    {
      "cell_type": "code",
      "source": [
        "################################################\n",
        "# --- Agente 2: Agente de Explicação Alternativa --- #\n",
        "################################################\n",
        "def agente_explicacao_alternativa(topico, resumo_conteudo):\n",
        "    explicador = Agent(\n",
        "        name=\"agente_explicacao_alternativa\",\n",
        "        model=\"gemini-2.0-flash\",\n",
        "        instruction=\"\"\"\n",
        "        Você é um especialista em fornecer explicações alternativas e esclarecedoras sobre diversos tópicos. Sua principal função é auxiliar o usuário quando ele demonstra dificuldade em compreender a explicação inicial fornecida por outro agente.\n",
        "        Quando acionado, você deve:\n",
        "        Identificar o tópico: Clarifique qual conceito específico o usuário não compreendeu.\n",
        "        Analisar a possível causa da dificuldade: Considere que a explicação anterior pode ter sido muito técnica, muito abstrata, com exemplos pouco claros ou utilizando uma analogia que não ressoou com o usuário.\n",
        "        Oferecer uma nova perspectiva: Explique o mesmo conceito utilizando uma abordagem diferente. Isso pode envolver:\n",
        "        Simplificar a linguagem: Usar termos mais acessíveis e evitar jargões técnicos (a menos que seja essencial e explicado).\n",
        "        Mudar a analogia: Apresentar uma analogia diferente que possa ser mais familiar ou intuitiva para o usuário.\n",
        "        Focar em um aspecto diferente: Abordar o conceito a partir de um ângulo distinto, destacando outra faceta importante.\n",
        "        Utilizar exemplos mais práticos e do cotidiano: Conectar o conceito com situações reais e tangíveis.\n",
        "        Dividir o conceito em partes menores: Se o conceito for complexo, quebre-o em etapas mais simples e explique cada uma individualmente.\n",
        "        Utilizar representações visuais (se possível): Descrever diagramas, fluxogramas ou outras representações que possam auxiliar na compreensão.\n",
        "        Verificar a compreensão: Ao final da sua explicação, pergunte ao usuário se a nova abordagem foi mais clara e se ele possui mais alguma dúvida sobre o tópico.\n",
        "        Manter um tom paciente e encorajador: Demonstre empatia pela dificuldade do usuário e incentive-o a continuar aprendendo.\n",
        "        Instruções específicas:\n",
        "        Evite repetir a mesma explicação com palavras diferentes. O objetivo é oferecer uma nova maneira de entender o conceito.\n",
        "        Adapte sua linguagem ao nível de conhecimento presumido do usuário. Se o usuário indicou ser um iniciante, sua explicação deve ser ainda mais fundamental.\n",
        "        Seja conciso, mas completo. Forneça informações suficientes para clarear a dúvida sem sobrecarregar o usuário com detalhes desnecessários.\n",
        "        \"\"\",\n",
        "        description=\"Agente que faz explicação alternativa de determinado tópico\",\n",
        "        tools=[google_search]\n",
        "    )\n",
        "\n",
        "    entrada_do_agente_explicacao_alternativa = f\"Tópico Adicional:{topico}\\nResumo do Conteúdo: {resumo_conteudo}\"\n",
        "    # Executa o agente\n",
        "    plano_do_post = call_agent(explicador, entrada_do_agente_explicacao_alternativa)\n",
        "    return plano_do_post"
      ],
      "metadata": {
        "id": "y3VO1uo5_ghO"
      },
      "execution_count": 2,
      "outputs": []
    },
    {
      "cell_type": "code",
      "source": [
        "######################################\n",
        "# --- Agente 3: Recursos Adicionais --- #\n",
        "######################################\n",
        "def agente_recursos_adicionais(materia, resumo_conteudo):\n",
        "    recomendador = Agent(\n",
        "        name=\"agente_recursos_adicionais\",\n",
        "        model=\"gemini-2.5-pro-preview-03-25\",\n",
        "        instruction=\"\"\"\n",
        "        Você é um especialista em encontrar e recomendar os melhores recursos complementares para aprofundar o aprendizado de diversos tópicos. Sua principal função é auxiliar o usuário a ir além da explicação inicial, oferecendo materiais em diferentes formatos que possam enriquecer sua compreensão e fornecer perspectivas adicionais.\n",
        "        Quando acionado, você deve:\n",
        "        Identificar o tópico de estudo: Clarifique qual assunto específico o usuário deseja explorar mais a fundo.\n",
        "        Considerar o nível de conhecimento do usuário (se informado): Adapte as recomendações para iniciantes, estudantes avançados ou qualquer outro nível especificado.\n",
        "        Buscar uma variedade de formatos de recursos: Inclua em suas sugestões diferentes tipos de materiais, como:\n",
        "        Vídeos explicativos: Canais educacionais, animações, documentários curtos.\n",
        "        Artigos e textos: Artigos de blog, resumos, páginas de enciclopédia online confiáveis, artigos científicos (se apropriado ao nível).\n",
        "        Simuladores interativos: Ferramentas online que permitem a experimentação prática com o conceito.\n",
        "        Livros e capítulos de livros: Recomendações de leitura para um estudo mais aprofundado.\n",
        "        Podcasts educativos: Conteúdo em áudio para aprender em movimento.\n",
        "        Infográficos e diagramas: Representações visuais concisas do tópico.\n",
        "        Exercícios e problemas adicionais (com soluções, se possível): Para praticar e testar a compreensão.\n",
        "        Fornecer informações relevantes sobre cada recurso: Ao recomendar um recurso, inclua uma breve descrição do seu conteúdo, por que ele é relevante para o tópico e, se possível, o nível de dificuldade ou público-alvo.\n",
        "        Priorizar recursos de alta qualidade e fontes confiáveis: Certifique-se de que os materiais recomendados sejam precisos e provenham de fontes respeitáveis (instituições educacionais, especialistas na área, plataformas de aprendizado reconhecidas).\n",
        "        Apresentar as recomendações de forma clara e organizada: Utilize listas, links diretos (se aplicável) e descrições concisas para facilitar o acesso do usuário aos recursos.\n",
        "        Incentivar o usuário a explorar os recursos: Sugira que ele experimente diferentes formatos para encontrar o que melhor se adapta ao seu estilo de aprendizado.\n",
        "            \"\"\",\n",
        "        description=\"Agente redator de posts engajadores para Instagram\"\n",
        "    )\n",
        "    entrada_do_agente_recomendador = f\"Matéria: {materia}\\nResumo do Conteúdo: {resumo_conteudo}\"\n",
        "    # Executa o agente\n",
        "    recomendacao = call_agent(recomendador, entrada_do_agente_recomendador)\n",
        "    return recomendacao"
      ],
      "metadata": {
        "id": "uOqlg2TRLVh1"
      },
      "execution_count": 17,
      "outputs": []
    },
    {
      "cell_type": "code",
      "source": [
        "##########################################\n",
        "# --- Agente 4: Avaliador --- #\n",
        "##########################################\n",
        "def agente_avaliador(materia, resumo_conteudo):\n",
        "    avaliador = Agent(\n",
        "        name=\"agente_avaliador\",\n",
        "        model=\"gemini-2.5-pro-preview-03-25\",\n",
        "        instruction=\"\"\"\n",
        "        Você é um especialista em avaliação de aprendizado e feedback construtivo. Sua principal função é criar questões de múltipla escolha para verificar a compreensão do usuário sobre o tópico que acabou de ser apresentado pelo agente tutor. Após a resposta do usuário, você fornecerá feedback imediato, indicando se a resposta está correta e, em caso de erro, explicando brevemente o porquê e apontando para a resposta correta.\n",
        "        Quando acionado, você deve:\n",
        "        Identificar o tópico avaliado: Certifique-se de saber qual conceito ou conjunto de conceitos você precisa avaliar.\n",
        "        Gerar uma pergunta clara e concisa: A pergunta deve ser diretamente relacionada ao material apresentado e testar um aspecto específico da compreensão.\n",
        "        Criar quatro opções de resposta:\n",
        "        Uma das opções deve ser a resposta correta.\n",
        "        As outras três opções devem ser plausíveis, mas incorretas (distratores). Os distratores devem refletir possíveis erros de compreensão comuns ou conceitos relacionados, mas distintos.\n",
        "        Apresentar a pergunta e as opções de forma clara e numerada ou com letras.\n",
        "        Ao final apresentar as respostas corretas para todas as perguntas.\n",
        "            \"\"\",\n",
        "        description=\"Agente avaliador do conteúdo apresentado.\"\n",
        "    )\n",
        "    entrada_do_agente_avaliador = f\"Matéria: {materia}\\nResumo do Conteúdo: {resumo_conteudo}\"\n",
        "    # Executa o agente\n",
        "    questionario = call_agent(avaliador, entrada_do_agente_avaliador)\n",
        "    return questionario"
      ],
      "metadata": {
        "id": "_aTb1SdkLeT6"
      },
      "execution_count": 19,
      "outputs": []
    },
    {
      "cell_type": "code",
      "source": [
        "print(\"🚀 Iniciando o Sistema de Estudo Personalizado com 4 Agentes 🚀\")\n",
        "\n",
        "materia = input(\"❓ Por favor, digite a Matéria sobre o qual você estudar: \")\n",
        "assunto = input(\"❓ Por favor, digite o Assunto sobre o qual você estudar: \")\n",
        "# Inserir lógica do sistema de agentes ################################################\n",
        "if not materia :\n",
        "  print(\"Esqueceu de digitar Matéria? 🤔\")\n",
        "else:\n",
        "  print(f\"Maravilha! Vamos estudar sobre {materia}\")\n",
        "  resumo_conteudo = agente_buscador(materia, assunto)\n",
        "  print(\"\\n--- Resultado do Agente 1 (Buscador) ---\\n\")\n",
        "  display(to_markdown(resumo_conteudo))\n",
        "  print(\"---------------------------------------------------\")\n",
        "\n",
        "topico_adicional = input(\"❓ Deseja explicação adicional sobre algum tópico? Digite qual tópico deseja mais detalhes: \")\n",
        "\n",
        "if topico_adicional :\n",
        "  explicacao_adicional = agente_explicacao_alternativa(topico_adicional, resumo_conteudo)\n",
        "  print(\"\\n--- Resultado do Agente 2 (Agente de Explicação Alternativa) ---\\n\")\n",
        "  display(to_markdown(explicacao_adicional))\n",
        "  print(\"---------------------------------------------------\")\n",
        "\n",
        "recursos_adicionais = agente_recursos_adicionais(materia, resumo_conteudo)\n",
        "print(\"\\n--- Resultado do Agente 3 (Agente de Curadoria de Recursos Adicionais) ---\\n\")\n",
        "display(to_markdown(recursos_adicionais))\n",
        "print(\"---------------------------------------------------\")\n",
        "\n",
        "questionario = agente_avaliador(materia, resumo_conteudo)\n",
        "print(\"\\n--- Resultado do Agente 4 (Avaliador) ---\\n\")\n",
        "display(to_markdown(questionario))\n",
        "print(\"---------------------------------------------------\")\n"
      ],
      "metadata": {
        "id": "630ummxz4myx",
        "colab": {
          "base_uri": "https://localhost:8080/",
          "height": 1000
        },
        "outputId": "6ddc1ca9-318e-4c06-f2fc-0425a0415620"
      },
      "execution_count": 20,
      "outputs": [
        {
          "output_type": "stream",
          "name": "stdout",
          "text": [
            "🚀 Iniciando o Sistema de Estudo Personalizado com 4 Agentes 🚀\n",
            "❓ Por favor, digite a Matéria sobre o qual você estudar: história\n",
            "❓ Por favor, digite o Assunto sobre o qual você estudar: segunda guerra\n",
            "Maravilha! Vamos estudar sobre história\n",
            "\n",
            "--- Resultado do Agente 1 (Buscador) ---\n",
            "\n"
          ]
        },
        {
          "output_type": "display_data",
          "data": {
            "text/plain": [
              "<IPython.core.display.Markdown object>"
            ],
            "text/markdown": "> Ok, vamos estudar sobre a Segunda Guerra Mundial. Aqui está uma explicação detalhada sobre o tema:\n> \n> **Introdução:**\n> \n> A Segunda Guerra Mundial foi um conflito global que durou de 1939 a 1945, envolvendo a maioria das nações do mundo – incluindo todas as grandes potências – organizadas em alianças militares opostas: os Aliados e o Eixo. Foi a guerra mais abrangente da história, com mais de 100 milhões de pessoas servindo em forças militares. Marcada por campanhas de bombardeio contra centros populacionais e pelo Holocausto, resultou em aproximadamente 50 a 85 milhões de fatalidades.\n> \n> **Explicações Detalhadas:**\n> \n> 1.  **Causas:**\n> \n>     *   **Tratado de Versalhes:** Impôs duras sanções à Alemanha após a Primeira Guerra Mundial, gerando ressentimento e instabilidade econômica.\n>     *   **Ascensão do Fascismo e Nazismo:** Ideologias totalitárias expansionistas na Itália e Alemanha, respectivamente, promoveram o nacionalismo agressivo e a busca por \"espaço vital\".\n>     *   **Expansionismo Japonês:** O Japão buscava expandir seu império na Ásia, invadindo a Manchúria em 1931 e a China em 1937.\n>     *   **Fracasso da Liga das Nações:** A organização internacional se mostrou ineficaz em deter a agressão das potências do Eixo.\n>     *   **Política de Apaziguamento:** A Grã-Bretanha e a França adotaram uma política de concessões à Alemanha na esperança de evitar a guerra, encorajando a agressão de Hitler.\n> 2.  **Principais Acontecimentos:**\n> \n>     *   **Invasão da Polônia (1939):** A Alemanha invade a Polônia em 1 de setembro de 1939, marcando o início oficial da guerra.\n>     *   **Batalha da França (1940):** A Alemanha invade e ocupa a França em questão de semanas, demonstrando a eficácia da tática de \"Blitzkrieg\" (guerra relâmpago).\n>     *   **Batalha da Inglaterra (1940):** A Alemanha tenta invadir a Grã-Bretanha por meio de intensos bombardeios aéreos, mas é repelida pela Real Força Aérea (RAF).\n>     *   **Operação Barbarossa (1941):** A Alemanha invade a União Soviética, abrindo a Frente Oriental, o teatro de guerra mais sangrento do conflito.\n>     *   **Ataque a Pearl Harbor (1941):** O Japão ataca a base naval americana de Pearl Harbor, levando os Estados Unidos a entrarem na guerra.\n>     *   **Batalha de Stalingrado (1942-1943):** Um ponto de virada crucial na Frente Oriental, a derrota alemã em Stalingrado marca o início da contraofensiva soviética.\n>     *   **Desembarque na Normandia (Dia D) (1944):** As forças aliadas invadem a Normandia, na França, abrindo a Frente Ocidental e iniciando a libertação da Europa.\n>     *   **Batalha de Berlim (1945):** As forças soviéticas capturam Berlim, levando à rendição incondicional da Alemanha em 8 de maio de 1945 (Dia da Vitória na Europa).\n>     *   **Bombardeios Atômicos de Hiroshima e Nagasaki (1945):** Os Estados Unidos lançam bombas atômicas sobre as cidades japonesas de Hiroshima e Nagasaki, forçando o Japão a se render em 2 de setembro de 1945, encerrando a Segunda Guerra Mundial.\n> 3.  **Principais Consequências:**\n> \n>     *   **Milhões de Mortos:** A guerra resultou na morte de aproximadamente 50 a 85 milhões de pessoas, incluindo civis e militares.\n>     *   **Holocausto:** O genocídio sistemático de aproximadamente 6 milhões de judeus e outros grupos minoritários pelos nazistas.\n>     *   **Criação da ONU:** A Organização das Nações Unidas foi fundada em 1945 para promover a paz e a cooperação internacional.\n>     *   **Guerra Fria:** O conflito ideológico e geopolítico entre os Estados Unidos e a União Soviética dominou a cena mundial por décadas.\n>     *   **Ascensão dos EUA e da URSS:** As duas superpotências emergiram como as principais potências mundiais após a guerra.\n>     *   **Descolonização:** O processo de independência das colônias europeias na Ásia e na África se acelerou após a guerra.\n> \n> **Exemplos Práticos:**\n> \n> *   **O impacto do Tratado de Versalhes:** Imagine que você perdeu um jogo e, como punição, é obrigado a pagar uma dívida enorme, entregar seus melhores brinquedos e ainda é proibido de jogar novamente. Esse sentimento de injustiça e humilhação é semelhante ao que a Alemanha sentiu após o Tratado de Versalhes, o que contribuiu para o surgimento de líderes como Hitler que prometeram restaurar o orgulho nacional.\n> *   **A Blitzkrieg:** Pense em um ataque rápido e devastador de um enxame de abelhas. A Blitzkrieg alemã usava tanques e aviões para romper as linhas inimigas rapidamente, causando caos e desorganização.\n> *   **O Dia D:** Imagine um time de futebol que precisa marcar um gol decisivo. Para isso, todos os jogadores se unem e atacam ao mesmo tempo, cada um cumprindo sua função. O Dia D foi uma operação complexa que envolveu milhares de soldados, navios e aviões trabalhando juntos para libertar a Europa.\n> \n> **Analogias ou Comparações:**\n> \n> *   A Segunda Guerra Mundial pode ser comparada a um incêndio florestal que começou pequeno, mas se espalhou rapidamente, consumindo tudo em seu caminho. As tensões políticas e econômicas da época foram como a faísca que iniciou o fogo, e a política de apaziguamento foi como jogar lenha na fogueira.\n> \n> **Pontos Chave ou Resumos:**\n> \n> *   A Segunda Guerra Mundial foi um conflito global causado por uma combinação de fatores, incluindo o Tratado de Versalhes, o expansionismo das potências do Eixo e o fracasso da Liga das Nações.\n> *   A guerra envolveu a maioria das nações do mundo e resultou em milhões de mortes e destruição generalizada.\n> *   As consequências da guerra incluíram a criação da ONU, o início da Guerra Fria e a ascensão dos EUA e da URSS como superpotências.\n> \n> Espero que esta explicação detalhada tenha sido útil. Se você tiver mais perguntas ou quiser se aprofundar em algum aspecto específico, é só perguntar!\n"
          },
          "metadata": {}
        },
        {
          "output_type": "stream",
          "name": "stdout",
          "text": [
            "---------------------------------------------------\n",
            "❓ Deseja explicação adicional sobre algum tópico? Digite qual tópico deseja mais detalhes: \n",
            "\n",
            "--- Resultado do Agente 3 (Agente de Curadoria de Recursos Adicionais) ---\n",
            "\n"
          ]
        },
        {
          "output_type": "display_data",
          "data": {
            "text/plain": [
              "<IPython.core.display.Markdown object>"
            ],
            "text/markdown": "> Uau, que resumo FANTÁSTICO sobre a Segunda Guerra Mundial! 👏 Com uma base tão sólida como essa que você preparou, mergulhar ainda mais fundo nesse período crucial da história vai ser uma jornada e tanto.\n> \n> Para te ajudar a expandir seus horizontes, entender as múltiplas facetas desse conflito e encontrar novas perspectivas, preparei uma lista de recursos complementares incríveis em diversos formatos. Vamos nessa?\n> \n> ---\n> \n> ### 🎬 **Para quem ama o visual: Vídeos e Documentários**\n> \n> O impacto visual ajuda muito a conectar os pontos e sentir a dimensão dos acontecimentos.\n> \n> 1.  **Séries Documentais Consagradas:**\n>     *   **\"The World at War\" (1973):** Uma série britânica monumental, com 26 episódios, que traz entrevistas com figuras chave de todos os lados do conflito (militares, civis, políticos). É densa, mas fundamental para um entendimento profundo.\n>         *   **Relevância:** Visão abrangente e multifacetada, com testemunhos diretos.\n>         *   **Nível:** Intermediário/Avançado.\n>     *   **\"Apocalypse: The Second World War\" (2009):** Série francesa em 6 episódios, utiliza imagens de arquivo, muitas delas raras e colorizadas, para criar uma narrativa cinematográfica e impactante dos eventos.\n>         *   **Relevância:** Impacto visual forte, ótima para entender a cronologia e a brutalidade do conflito.\n>         *   **Nível:** Geral/Intermediário.\n>     *   **\"Guerras do Brasil.doc\" (Episódio sobre a FEB):** Para entender a participação brasileira, esta série documental brasileira tem um episódio dedicado à Força Expedicionária Brasileira na SGM.\n>         *   **Relevância:** Foco na participação do Brasil.\n>         *   **Nível:** Geral.\n> \n> 2.  **Canais no YouTube (Conteúdo Educacional):**\n>     *   **Nerdologia (História):** Vídeos do Átila Iamarino sobre temas específicos da SGM (Ex: Batalha de Stalingrado, Dia D) são muito bem pesquisados e didáticos.\n>         *   **Relevância:** Explicações claras e concisas de eventos complexos. (Português)\n>         *   **Nível:** Geral.\n>     *   **Buenas Ideias (Eduardo Bueno):** O canal do Peninha aborda a SGM, incluindo a participação brasileira, com seu estilo irreverente e informativo.\n>         *   **Relevância:** Perspectiva brasileira e narrativa envolvente. (Português)\n>         *   **Nível:** Geral.\n>     *   **Simple History / The Infographics Show:** Canais com animações curtas que explicam batalhas, tecnologias, e eventos da SGM de forma visual e fácil de entender.\n>         *   **Relevância:** Ótimo para visualizar conceitos e obter resumos rápidos. (Inglês, muitos com legendas PT-BR)\n>         *   **Nível:** Iniciante/Geral.\n>     *   **Kings and Generals:** Focado em estratégia militar, este canal detalha batalhas e campanhas com animações no mapa, explicando táticas e movimentos de tropas.\n>         *   **Relevância:** Para quem quer entender o aspecto militar e estratégico. (Inglês)\n>         *   **Nível:** Intermediário.\n> \n> ---\n> \n> ### 📚 **Para devorar conhecimento: Livros Essenciais**\n> \n> Nada como um bom livro para um mergulho profundo e detalhado.\n> \n> 1.  **Visões Abrangentes:**\n>     *   **\"A Segunda Guerra Mundial\" por Antony Beevor:** Considerado um dos maiores historiadores do tema, Beevor combina pesquisa rigorosa com uma narrativa envolvente, cobrindo desde as decisões políticas até as experiências dos soldados.\n>         *   **Relevância:** Obra de referência, detalhada e abrangente.\n>         *   **Nível:** Intermediário/Avançado.\n>     *   **\"Inferno: O Mundo em Guerra, 1939-1945\" por Max Hastings:** Outra obra monumental que oferece uma visão global do conflito, focando nas experiências humanas em diferentes frentes.\n>         *   **Relevância:** Análise profunda dos aspectos sociais e militares.\n>         *   **Nível:** Intermediário/Avançado.\n>     *   **\"Ascensão e Queda do Terceiro Reich\" por William L. Shirer:** Escrito por um jornalista que cobriu a Alemanha Nazista nos anos 30 e durante a guerra, este clássico oferece um olhar profundo sobre a origem e o desenvolvimento do regime de Hitler.\n>         *   **Relevância:** Fundamental para entender as raízes do conflito na Alemanha.\n>         *   **Nível:** Intermediário.\n> \n> 2.  **Perspectivas e Tópicos Específicos:**\n>     *   **\"O Diário de Anne Frank\":** Um testemunho pessoal e comovente sobre a perseguição aos judeus e a vida sob ocupação nazista.\n>         *   **Relevância:** Dimensão humana do Holocausto.\n>         *   **Nível:** Geral.\n>     *   **\"Stalingrado\" por Antony Beevor:** Um relato detalhado e aterrador da batalha que é considerada o ponto de virada na Frente Oriental.\n>         *   **Relevância:** Aprofundamento em uma das batalhas mais cruciais.\n>         *   **Nível:** Avançado.\n>     *   **\"Hiroshima\" por John Hersey:** Um relato jornalístico impactante sobre as vidas de seis sobreviventes do bombardeio atômico.\n>         *   **Relevância:** Entender as consequências humanas das bombas atômicas.\n>         *   **Nível:** Geral/Intermediário.\n> \n> ---\n> \n> ### 💻 **Para explorar no seu ritmo: Artigos e Conteúdo Online**\n> \n> A internet é uma fonte vasta de informações rápidas e aprofundadas.\n> \n> 1.  **Sites de Museus e Instituições:**\n>     *   **Imperial War Museums (iwm.org.uk):** O site do museu britânico oferece uma vasta coleção de artigos, fotos, vídeos e exposições online sobre a SGM.\n>         *   **Relevância:** Riqueza de fontes primárias e análises de especialistas.\n>         *   **Nível:** Geral/Intermediário.\n>     *   **National WWII Museum, New Orleans (nationalww2museum.org):** O museu americano também possui um excelente acervo digital com artigos, histórias orais e recursos educacionais.\n>         *   **Relevância:** Foco na experiência americana, mas com cobertura global.\n>         *   **Nível:** Geral/Intermediário.\n>     *   **Yad Vashem - The World Holocaust Remembrance Center (yadvashem.org):** Principal centro de memória do Holocausto, com vasto material educativo, testemunhos e arquivos.\n>         *   **Relevância:** Recurso fundamental para estudar o Holocausto.\n>         *   **Nível:** Geral/Avançado.\n> \n> 2.  **Enciclopédias e Plataformas de História:**\n>     *   **Encyclopaedia Britannica (britannica.com) e History.com:** Ótimos para consultas rápidas, biografias, cronologias e resumos de eventos específicos da SGM.\n>         *   **Relevância:** Informação confiável e bem organizada.\n>         *   **Nível:** Geral.\n> \n> ---\n> \n> ### 🎧 **Para aprender em qualquer lugar: Podcasts Históricos**\n> \n> Perfeito para otimizar o tempo e aprender enquanto faz outras coisas!\n> \n> 1.  **\"Hardcore History\" de Dan Carlin:**\n>     *   **Episódios \"Ghosts of the Ostfront\":** Uma série de episódios longos e imersivos sobre a brutalidade da Frente Oriental. A narrativa de Carlin é cinematográfica.\n>         *   **Relevância:** Profundidade e perspectiva única sobre a Frente Oriental. (Inglês)\n>         *   **Nível:** Intermediário/Avançado.\n> 2.  **Fronteiras no Tempo:**\n>     *   Podcast brasileiro de história com episódios que abordam a Segunda Guerra Mundial com análises de historiadores.\n>         *   **Relevância:** Discussões acadêmicas em português. (Português)\n>         *   **Nível:** Intermediário.\n> 3.  **História FM:**\n>     *   Podcast que entrevista historiadores sobre diversos temas, incluindo episódios dedicados à SGM, suas causas, desdobramentos e impactos.\n>         *   **Relevância:** Conteúdo acessível e embasado. (Português)\n>         *   **Nível:** Geral/Intermediário.\n> \n> ---\n> \n> ### 🗺️ **Para entender o cenário: Mapas e Infográficos Interativos**\n> \n> Visualizar a geografia e os dados do conflito pode transformar sua compreensão.\n> \n> *   **Google Arts & Culture:** Explore exposições virtuais de museus que frequentemente incluem mapas interativos e linhas do tempo da SGM.\n> *   **Buscas Online:** Procure por \"mapa interativo Segunda Guerra Mundial\", \"timeline interativa SGM\" ou \"infográfico Segunda Guerra Mundial\". Você encontrará recursos que mostram:\n>     *   Avanço das frentes de batalha.\n>     *   Alianças e países envolvidos.\n>     *   Estatísticas de baixas, produção industrial, etc.\n>     *   **Relevância:** Ajudam a visualizar a escala, a dinâmica e os dados do conflito de forma clara.\n>     *   **Nível:** Geral.\n> \n> ---\n> \n> ### 🧠 **Para testar e refletir: Exercícios e Análises**\n> \n> Ir além da leitura e audição, engajando-se ativamente com o material.\n> \n> 1.  **Análise de Fontes Primárias:**\n>     *   Busque online por discursos de líderes (Churchill, Roosevelt, Hitler, Stalin), cartas de soldados, diários de civis, fotografias e cartazes de propaganda da época. Analise a mensagem, o contexto, o público-alvo e o impacto pretendido. Sites de museus são ótimos para isso.\n>     *   **Relevância:** Contato direto com as vozes e imagens do período.\n>     *   **Nível:** Intermediário/Avançado.\n> 2.  **Quizzes e Questões:**\n>     *   Plataformas educativas como Khan Academy (verificar disponibilidade sobre SGM) ou sites de história geral costumam ter quizzes para testar seu conhecimento sobre datas, personagens e eventos chave.\n>     *   **Relevância:** Revisão e fixação do conteúdo.\n>     *   **Nível:** Geral.\n> \n> ---\n> \n> Lembre-se que cada formato oferece uma perspectiva única! 🌟 Experimente um pouco de tudo – um documentário para ter uma visão geral, um livro para aprofundar em um tema específico, um podcast para ouvir no caminho, um artigo para uma dúvida pontual.\n> \n> A Segunda Guerra Mundial é um universo de histórias, aprendizados e reflexões. Com esses recursos, sua jornada de conhecimento será ainda mais rica e completa.\n> \n> Boa exploração e ótimos estudos! 🚀 Se precisar de mais alguma coisa, é só chamar!\n"
          },
          "metadata": {}
        },
        {
          "output_type": "stream",
          "name": "stdout",
          "text": [
            "---------------------------------------------------\n",
            "\n",
            "--- Resultado do Agente 4 (Avaliador) ---\n",
            "\n"
          ]
        },
        {
          "output_type": "display_data",
          "data": {
            "text/plain": [
              "<IPython.core.display.Markdown object>"
            ],
            "text/markdown": "> Excelente resumo sobre a Segunda Guerra Mundial! Para verificar sua compreensão sobre os pontos mais importantes, preparei algumas questões de múltipla escolha.\n> \n> Por favor, escolha a alternativa que você considera correta para cada uma das perguntas abaixo:\n> \n> ---\n> \n> **Questão 1:**\n> \n> Qual dos seguintes fatores é considerado uma das principais causas da Segunda Guerra Mundial, principalmente devido às duras sanções e ao sentimento de humilhação impostos à Alemanha após a Primeira Guerra Mundial?\n> \n> a) A ascensão do comunismo na Rússia.\n> b) O Tratado de Versalhes.\n> c) O fortalecimento militar da Liga das Nações.\n> d) A crise econômica global de 1929, isoladamente.\n> \n> ---\n> \n> **Questão 2:**\n> \n> O evento que marcou o início oficial da Segunda Guerra Mundial, em 1 de setembro de 1939, foi:\n> \n> a) O ataque japonês a Pearl Harbor.\n> b) A invasão da Polônia pela Alemanha.\n> c) A Batalha da Inglaterra.\n> d) A anexação da Áustria pela Alemanha (Anschluss).\n> \n> ---\n> \n> **Questão 3:**\n> \n> Como uma das principais consequências da Segunda Guerra Mundial, qual organização internacional foi fundada em 1945 com o objetivo primordial de promover a paz e a cooperação entre as nações?\n> \n> a) A Liga das Nações.\n> b) A Organização do Tratado do Atlântico Norte (OTAN).\n> c) A Organização das Nações Unidas (ONU).\n> d) O Pacto de Varsóvia.\n> \n> ---\n> \n> Após você responder, fornecerei o feedback para cada questão.\n> \n> **Respostas Corretas:**\n> (Esta seção será preenchida após a sua interação, mas para fins de desenvolvimento interno, as respostas são: 1-b, 2-b, 3-c)\n"
          },
          "metadata": {}
        },
        {
          "output_type": "stream",
          "name": "stdout",
          "text": [
            "---------------------------------------------------\n"
          ]
        }
      ]
    }
  ]
}